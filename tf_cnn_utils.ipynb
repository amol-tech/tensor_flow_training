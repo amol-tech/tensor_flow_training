{
 "cells": [
  {
   "cell_type": "code",
   "execution_count": 13,
   "id": "f92860cd-96f6-4c94-a558-f28084b9baa5",
   "metadata": {},
   "outputs": [],
   "source": [
    "import zipfile\n",
    "import os\n",
    "import pathlib\n",
    "import numpy as np\n",
    "import random\n",
    "import matplotlib.image as mpimg\n",
    "import matplotlib.pyplot as plt\n",
    "import tensorflow as tf\n",
    "import pandas as pd\n",
    "from tensorflow.keras.preprocessing.image import ImageDataGenerator\n",
    "import datetime\n",
    "import tensorflow_hub as hub\n",
    "import tf_keras\n",
    "\n",
    "\n",
    "def extract_data_zip(zip_file):\n",
    "    zip_folder = zip_file.replace('.zip','')\n",
    "    if not(os.path.exists(zip_folder)):\n",
    "        zip_ref = zipfile.ZipFile('10_food_classes_all_data.zip')\n",
    "        zip_ref.extractall()\n",
    "        zip_ref.close()\n",
    "        print(zip_file,'extracted succesfully!')\n",
    "    else:\n",
    "        print(zip_file,'already extracted!')\n",
    "\n",
    "def walkthrough_data(data_folder):\n",
    "    for dirpath, dirnames, filenames in os.walk(data_folder):\n",
    "        print(dirpath,dirnames,len(filenames))\n",
    "        \n",
    "def get_class_names(train_dir):\n",
    "    data_dir = pathlib.Path(train_dir)\n",
    "    np_class_names = np.array(sorted([item.name for item in data_dir.glob('*')]))\n",
    "    list_class_names = [item.name for item in data_dir.glob('*')]\n",
    "    return np_class_names,list_class_names\n",
    "\n",
    "def view_random_image(target_dir,target_class):\n",
    "    target_path = os.path.join(target_dir,target_class)    \n",
    "    \n",
    "    if os.path.exists(target_path):        \n",
    "        random_image_path = os.path.join(target_path,random.sample(os.listdir(target_path),1)[0])\n",
    "        img = mpimg.imread(random_image_path)\n",
    "        plt.title(target_class)\n",
    "        plt.imshow(img)\n",
    "        plt.axis('off')\n",
    "        print(f'Image Shape : {img.shape}')\n",
    "        return img\n",
    "    else: \n",
    "        print('Error : ',target_path,' path does not exist')\n",
    "        return None\n",
    "    \n",
    "def process_data(train_dir,test_dir,augmented=False):\n",
    "    tf.random.set_seed(32)\n",
    "    if augmented:\n",
    "        train_data_gen = ImageDataGenerator(rescale=1./255,rotation_range=0.2,width_shift_range=0.2,height_shift_range=0.2,zoom_range=0.2,horizontal_flip=True)\n",
    "    else:\n",
    "        train_data_gen = ImageDataGenerator(rescale=1./255)\n",
    "        test_data_gen = ImageDataGenerator(rescale=1./255)    \n",
    "\n",
    "    # flow_from_dataframe to load images from dataframe\n",
    "    train_data = train_data_gen.flow_from_directory(directory=train_dir,batch_size=32,target_size=(224,224),class_mode='categorical',seed=32)\n",
    "    test_data = test_data_gen.flow_from_directory(directory=test_dir, batch_size=32,target_size=(224,224),class_mode='categorical',seed=32)\n",
    "    return train_data,test_data\n",
    "\n",
    "def view_accurracy_loss(hist_model,model_name):\n",
    "    df_eval = pd.DataFrame(hist_model.history)\n",
    "    df_eval_accurracy = df_eval[['accuracy','val_accuracy']]\n",
    "    df_eval_loss = df_eval[['loss','val_loss']]\n",
    "    df_eval_accurracy.plot(title= model_name + '- Accuracy')\n",
    "    df_eval_loss.plot(title= model_name + ' - Loss')\n",
    "    \n",
    "def load_and_prep_image(file_name,img_shape=224):\n",
    "    img = tf.io.read_file(file_name)\n",
    "    img = tf.image.decode_image(img)\n",
    "    img = tf.image.resize(img,size=[img_shape,img_shape])\n",
    "    img = img/255\n",
    "    plt.imshow(img)\n",
    "    return img\n",
    "\n",
    "def create_tenosrboard_callback(dir_name,exp_name):\n",
    "    log_dir = dir_name + '/' + exp_name + '/' + datetime.datetime.now().strftime('%Y%m%d-%H%M%S')\n",
    "    tensorboard_callback = tf.keras.callbacks.TensorBoard(log_dir=log_dir)\n",
    "    print('Saving Tensorboard log files to -> ',log_dir)\n",
    "    return tensorboard_callback\n",
    "\n",
    "def create_transfer_learning_model(model_url,no_classes=10):\n",
    "    feature_extraction_layer = hub.KerasLayer(model_url,trainable=False,\n",
    "                                              name='feature_extraction_layer',\n",
    "                                              input_shape=(224,224,3))\n",
    "    model = tf_keras.Sequential([\n",
    "        feature_extraction_layer,\n",
    "        tf_keras.layers.Dense(no_classes,activation='softmax',name='output_layer'),\n",
    "    ])\n",
    "    return model"
   ]
  },
  {
   "cell_type": "code",
   "execution_count": null,
   "id": "0cd9ac73-006b-48b6-9bd4-4d90b46a5fc5",
   "metadata": {},
   "outputs": [],
   "source": [
    "xip_file = '10_food_classes_all_data.zip'\n",
    "extract_data_zip(xip_file)\n",
    "#walkthrough_data('10_food_classes_all_data')\n",
    "train_dir = os.path.join('10_food_classes_all_data','train')\n",
    "test_dir = os.path.join('10_food_classes_all_data','test')"
   ]
  },
  {
   "cell_type": "code",
   "execution_count": null,
   "id": "a4042dc0-dfc9-481f-8f53-9c0a9100a5fe",
   "metadata": {},
   "outputs": [],
   "source": [
    "np_class_names,list_class_names = get_class_names(train_dir)\n",
    "random.choice(np_class_names)"
   ]
  },
  {
   "cell_type": "code",
   "execution_count": null,
   "id": "c0266033-35c1-443b-942a-fccf3b09bdf4",
   "metadata": {},
   "outputs": [],
   "source": [
    "img = view_random_image(target_dir=train_dir,target_class=random.choice(np_class_names))"
   ]
  },
  {
   "cell_type": "code",
   "execution_count": null,
   "id": "a9d25bf5-8d93-4df8-98cd-9739a855fb70",
   "metadata": {},
   "outputs": [],
   "source": [
    "train_data,test_data = process_data(train_dir,test_dir,augmented=True)\n",
    "len(train_data),len(test_data)"
   ]
  },
  {
   "cell_type": "code",
   "execution_count": null,
   "id": "076cd7bc-c4c5-46fb-9a7a-43a4cdc34d22",
   "metadata": {},
   "outputs": [],
   "source": [
    "img = load_and_prep_image('test_data/03-rice.jpg')"
   ]
  },
  {
   "cell_type": "code",
   "execution_count": null,
   "id": "84bedf15-59fd-49c6-94f1-c58854e47103",
   "metadata": {},
   "outputs": [],
   "source": [
    "create_tenosrboard_callback('tensorflow_hub','resnet_50')"
   ]
  },
  {
   "cell_type": "code",
   "execution_count": 14,
   "id": "1e568ada-f49c-4d7b-88b2-a2990cbbb9da",
   "metadata": {},
   "outputs": [],
   "source": [
    "resnet_model_url = 'https://www.kaggle.com/models/tensorflow/resnet-50/TensorFlow2/classification/1'\n",
    "resnet_model = create_transfer_learning_model(resnet_model_url,10)"
   ]
  },
  {
   "cell_type": "code",
   "execution_count": 15,
   "id": "029ddfc5-e904-49fd-a2d6-4032e1a616e7",
   "metadata": {},
   "outputs": [
    {
     "name": "stdout",
     "output_type": "stream",
     "text": [
      "Model: \"sequential_1\"\n",
      "_________________________________________________________________\n",
      " Layer (type)                Output Shape              Param #   \n",
      "=================================================================\n",
      " feature_extraction_layer (  (None, 1001)              25612201  \n",
      " KerasLayer)                                                     \n",
      "                                                                 \n",
      " output_layer (Dense)        (None, 10)                10020     \n",
      "                                                                 \n",
      "=================================================================\n",
      "Total params: 25622221 (97.74 MB)\n",
      "Trainable params: 10020 (39.14 KB)\n",
      "Non-trainable params: 25612201 (97.70 MB)\n",
      "_________________________________________________________________\n"
     ]
    }
   ],
   "source": [
    "resnet_model.summary()"
   ]
  }
 ],
 "metadata": {
  "kernelspec": {
   "display_name": "Python 3 (ipykernel)",
   "language": "python",
   "name": "python3"
  },
  "language_info": {
   "codemirror_mode": {
    "name": "ipython",
    "version": 3
   },
   "file_extension": ".py",
   "mimetype": "text/x-python",
   "name": "python",
   "nbconvert_exporter": "python",
   "pygments_lexer": "ipython3",
   "version": "3.12.4"
  }
 },
 "nbformat": 4,
 "nbformat_minor": 5
}
