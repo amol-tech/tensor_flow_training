{
 "cells": [
  {
   "cell_type": "markdown",
   "id": "0ecb8cf7-2d81-4892-8a41-eea4b3873323",
   "metadata": {},
   "source": [
    "### Multi Class Image Classification"
   ]
  },
  {
   "cell_type": "code",
   "execution_count": 1,
   "id": "bf767db6-c4ca-4482-a9f2-784bfd13d66e",
   "metadata": {},
   "outputs": [],
   "source": [
    "import tensorflow as tf\n",
    "import numpy as np\n",
    "import matplotlib.pyplot as plt\n",
    "import pandas as pd\n",
    "from tensorflow.keras.utils import plot_model\n",
    "from sklearn.model_selection import train_test_split\n",
    "import zipfile\n",
    "import wget\n",
    "import os\n",
    " \n",
    "import random\n",
    "from tensorflow.keras.preprocessing.image import ImageDataGenerator\n",
    "import tf_cnn_utils as cnn_utils"
   ]
  },
  {
   "cell_type": "markdown",
   "id": "d1641956-7cb4-4e46-b654-3497ec5d999d",
   "metadata": {},
   "source": [
    "#### Getting the data\n",
    "- https://storage.googleapis.com/ztm_tf_course/food_vision/10_food_classes_all_data.zip"
   ]
  },
  {
   "cell_type": "code",
   "execution_count": null,
   "id": "7f61e8f5-d032-4a07-99cf-eec11e7ecd12",
   "metadata": {},
   "outputs": [],
   "source": [
    "# - Execute first tie to download\n",
    "wget.download('https://storage.googleapis.com/ztm_tf_course/food_vision/10_food_classes_all_data.zip')\n"
   ]
  },
  {
   "cell_type": "code",
   "execution_count": 2,
   "id": "22904fcb-5e21-4fde-a523-147de7e7d489",
   "metadata": {},
   "outputs": [
    {
     "name": "stdout",
     "output_type": "stream",
     "text": [
      "10_food_classes_all_data.zip already extracted!\n"
     ]
    }
   ],
   "source": [
    "# Extract data zip if not extracted, and walkthorugh data\n",
    "cnn_utils.extract_data_zip('10_food_classes_all_data.zip')\n"
   ]
  },
  {
   "cell_type": "code",
   "execution_count": null,
   "id": "951f2b90-b794-4319-b95e-1c792af268f6",
   "metadata": {},
   "outputs": [],
   "source": [
    "for dirpath, dirnames, filenames in os.walextract_data_zip'10_food_classes_all_data'):\n",
    "    print(dirpath,dirnames,len(filenames))"
   ]
  },
  {
   "cell_type": "code",
   "execution_count": null,
   "id": "418b2c57-4b5f-41ec-9df3-006525802eac",
   "metadata": {},
   "outputs": [],
   "source": [
    "import pathlib\n",
    "train_dir = '10_food_classes_all_data/train/'\n",
    "test_dir = '10_food_classes_all_data/test/'\n",
    "data_dir = pathlib.Path(train_dir)\n",
    "class_names = np.array(sorted([item.name for item in data_dir.glob('*')]))\n",
    "class_names "
   ]
  },
  {
   "cell_type": "code",
   "execution_count": null,
   "id": "32218230-37df-4df5-8a64-f21fcb7fa512",
   "metadata": {},
   "outputs": [],
   "source": [
    "def view_random_image(target_dir,target_class):\n",
    "    target_path = os.path.join(target_dir,target_class)    \n",
    "    \n",
    "    if os.path.exists(target_path):        \n",
    "        random_image_path = os.path.join(target_path,random.sample(os.listdir(target_path),1)[0])\n",
    "        img = mpimg.imread(random_image_path)\n",
    "        plt.title(target_class)\n",
    "        plt.imshow(img)\n",
    "        plt.axis('off')\n",
    "        print(f'Image Shape : {img.shape}')\n",
    "        return img\n",
    "    else: \n",
    "        print('Error : ',target_path,' path does not exist')\n",
    "        return None"
   ]
  },
  {
   "cell_type": "code",
   "execution_count": null,
   "id": "f2a515e1-c5db-4285-8fd9-d591d6e0b0de",
   "metadata": {},
   "outputs": [],
   "source": [
    "img = view_random_image(target_dir=train_dir,target_class=random.choice(class_names))"
   ]
  },
  {
   "cell_type": "markdown",
   "id": "9962dad1-a911-454a-89a6-c6a00001be04",
   "metadata": {},
   "source": [
    "#### Pre-process Data"
   ]
  },
  {
   "cell_type": "code",
   "execution_count": null,
   "id": "3667b7b3-9d45-4b52-b348-4066bae7bbfc",
   "metadata": {},
   "outputs": [],
   "source": [
    "tf.random.set_seed(32)\n",
    "train_data_gen = ImageDataGenerator(rescale=1./255)\n",
    "test_data_gen = ImageDataGenerator(rescale=1./255)\n",
    "\n",
    "# flow_from_dataframe to load images from dataframe\n",
    "train_data = train_data_gen.flow_from_directory(directory=train_dir,batch_size=32,target_size=(224,224),class_mode='categorical',seed=32)\n",
    "test_data = test_data_gen.flow_from_directory(directory=test_dir, batch_size=32,target_size=(224,224),class_mode='categorical',seed=32)\n"
   ]
  },
  {
   "cell_type": "markdown",
   "id": "7b03d3c3-4910-46da-ad14-e03176d7036c",
   "metadata": {},
   "source": [
    "#### Creating and compiling a model with baseline"
   ]
  },
  {
   "cell_type": "code",
   "execution_count": null,
   "id": "a7b2923e-0065-422b-9672-598becd63d45",
   "metadata": {},
   "outputs": [],
   "source": [
    "model_cnn_base = tf.keras.Sequential([\n",
    "    tf.keras.layers.Conv2D(filters=10,kernel_size=3,activation='relu',input_shape=(224,224,3)),\n",
    "    tf.keras.layers.Conv2D(10,3,activation='relu'),\n",
    "    tf.keras.layers.MaxPool2D(),\n",
    "    tf.keras.layers.Conv2D(10,3,activation='relu'),\n",
    "    tf.keras.layers.Conv2D(10,3,activation='relu'),\n",
    "    tf.keras.layers.MaxPool2D(),\n",
    "    tf.keras.layers.Flatten(),\n",
    "    tf.keras.layers.Dense(10,activation='softmax')   # <-- since due to 10 output probability\n",
    "])\n",
    "\n",
    "model_cnn_base.compile(loss=tf.keras.losses.CategoricalCrossentropy,\n",
    "                       optimizer=tf.keras.optimizers.Adam(),\n",
    "                       metrics=['accuracy'])\n",
    "                       "
   ]
  },
  {
   "cell_type": "code",
   "execution_count": null,
   "id": "62f87f84-2272-47db-b5b4-6eda6e6924d6",
   "metadata": {},
   "outputs": [],
   "source": [
    "len(train_data)"
   ]
  },
  {
   "cell_type": "markdown",
   "id": "d93be516-303e-4df2-997e-777eec453b3e",
   "metadata": {},
   "source": [
    "#### Fit the model"
   ]
  },
  {
   "cell_type": "code",
   "execution_count": null,
   "id": "de36922d-9236-40e5-8c9d-d9426c832cdd",
   "metadata": {},
   "outputs": [],
   "source": [
    "hist_cnn_base = model_cnn_base.fit(train_data,epochs=5,\n",
    "                                   steps_per_epoch=len(train_data),\n",
    "                                   validation_data=test_data,\n",
    "                                   validation_steps=len(test_data))"
   ]
  }
 ],
 "metadata": {
  "kernelspec": {
   "display_name": "Python 3 (ipykernel)",
   "language": "python",
   "name": "python3"
  },
  "language_info": {
   "codemirror_mode": {
    "name": "ipython",
    "version": 3
   },
   "file_extension": ".py",
   "mimetype": "text/x-python",
   "name": "python",
   "nbconvert_exporter": "python",
   "pygments_lexer": "ipython3",
   "version": "3.12.4"
  }
 },
 "nbformat": 4,
 "nbformat_minor": 5
}
