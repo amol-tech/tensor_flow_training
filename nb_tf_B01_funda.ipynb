{
 "cells": [
  {
   "cell_type": "markdown",
   "id": "6033ad57-7678-48d4-b55b-4e152072cfdc",
   "metadata": {},
   "source": [
    "## Tensor Flow\n",
    "- Git hub Project Link https://github.com/mrdbourke/tensorflow-deep-learning\n",
    "- Notebooks Link https://www.learntensorflow.io"
   ]
  },
  {
   "cell_type": "code",
   "execution_count": 1,
   "id": "ac37310f-1e23-41d6-bdb3-58fb02a769f6",
   "metadata": {},
   "outputs": [
    {
     "name": "stdout",
     "output_type": "stream",
     "text": [
      "WARNING:tensorflow:From D:\\Workshops\\Python_Worksop\\env_data_science\\Lib\\site-packages\\tf_keras\\src\\losses.py:2976: The name tf.losses.sparse_softmax_cross_entropy is deprecated. Please use tf.compat.v1.losses.sparse_softmax_cross_entropy instead.\n",
      "\n",
      "WARNING:tensorflow:From D:\\Workshops\\Python_Worksop\\env_data_science\\Lib\\site-packages\\tensorflow_probability\\python\\internal\\backend\\numpy\\_utils.py:48: The name tf.logging.TaskLevelStatusMessage is deprecated. Please use tf.compat.v1.logging.TaskLevelStatusMessage instead.\n",
      "\n",
      "WARNING:tensorflow:From D:\\Workshops\\Python_Worksop\\env_data_science\\Lib\\site-packages\\tensorflow_probability\\python\\internal\\backend\\numpy\\_utils.py:48: The name tf.control_flow_v2_enabled is deprecated. Please use tf.compat.v1.control_flow_v2_enabled instead.\n",
      "\n"
     ]
    }
   ],
   "source": [
    "import tensorflow as tf\n",
    "import tensorflow_probability as tfp"
   ]
  },
  {
   "cell_type": "code",
   "execution_count": 2,
   "id": "3c22e086-e923-4407-a7a4-3530c16d1ca2",
   "metadata": {},
   "outputs": [
    {
     "name": "stdout",
     "output_type": "stream",
     "text": [
      "2.17.0\n"
     ]
    }
   ],
   "source": [
    "print(tf.__version__)"
   ]
  },
  {
   "cell_type": "markdown",
   "id": "4a51919b-b66d-433b-ae19-14b5606af52c",
   "metadata": {},
   "source": [
    "### Using tf.constant()"
   ]
  },
  {
   "cell_type": "markdown",
   "id": "b57e2d3b-041b-40da-8ed0-0c7dadc15276",
   "metadata": {},
   "source": [
    "#### Scalar Tensor/Vector"
   ]
  },
  {
   "cell_type": "code",
   "execution_count": 5,
   "id": "e033a519-8b4d-44cf-bf89-ff599b6f8510",
   "metadata": {},
   "outputs": [
    {
     "name": "stdout",
     "output_type": "stream",
     "text": [
      "tf.Tensor(18, shape=(), dtype=int32)\n",
      "tf.Tensor([1 2 3 4 5], shape=(5,), dtype=int32)\n",
      "0 ()\n",
      "1 (5,)\n"
     ]
    }
   ],
   "source": [
    "tensor_scalor = tf.constant(18)\n",
    "tensor_vector = tf.constant([1,2,3,4,5])\n",
    "print(tensor_scalor)\n",
    "print(tensor_vector)\n",
    "print(tensor_scalor.ndim,tensor_scalor.shape)\n",
    "print(tensor_vector.ndim,tensor_vector.shape)"
   ]
  },
  {
   "cell_type": "markdown",
   "id": "7adf2bd5-f2bf-4909-bbc8-cd56d3f8971b",
   "metadata": {},
   "source": [
    "#### Matrix Tensor"
   ]
  },
  {
   "cell_type": "code",
   "execution_count": 6,
   "id": "8e7ce268-c0d0-4417-8036-cc0abfd896ad",
   "metadata": {},
   "outputs": [
    {
     "name": "stdout",
     "output_type": "stream",
     "text": [
      "tf.Tensor(\n",
      "[[ 1 12]\n",
      " [ 3  6]], shape=(2, 2), dtype=int32)\n",
      "2 (2, 2)\n"
     ]
    }
   ],
   "source": [
    "tensor_matrix = tf.constant([[1,12],[3,6]])\n",
    "print(tensor_matrix)\n",
    "print(tensor_matrix.ndim,tensor_matrix.shape)"
   ]
  },
  {
   "cell_type": "code",
   "execution_count": 8,
   "id": "93a33257-a73a-45b1-a93f-6261cfe404f4",
   "metadata": {},
   "outputs": [
    {
     "name": "stdout",
     "output_type": "stream",
     "text": [
      "tf.Tensor(\n",
      "[[ 1.34  4.5 ]\n",
      " [ 9.   10.  ]], shape=(2, 2), dtype=float32)\n",
      "2 (2, 2)\n"
     ]
    }
   ],
   "source": [
    "tensor_matrix2 = tf.constant([[1.34,4.5],[9,10]])\n",
    "print(tensor_matrix2)\n",
    "print(tensor_matrix2.ndim,tensor_matrix2.shape)"
   ]
  },
  {
   "cell_type": "markdown",
   "id": "5a2f342c-7d66-450b-8dc1-6d4df7b520f5",
   "metadata": {},
   "source": [
    "#### N- dimensional tensor "
   ]
  },
  {
   "cell_type": "code",
   "execution_count": 9,
   "id": "58b57268-8c47-4487-9d8b-0d6503eac891",
   "metadata": {},
   "outputs": [
    {
     "name": "stdout",
     "output_type": "stream",
     "text": [
      "tf.Tensor(\n",
      "[[[1 2]\n",
      "  [3 4]]\n",
      "\n",
      " [[5 6]\n",
      "  [7 8]]], shape=(2, 2, 2), dtype=int32)\n",
      "3 (2, 2, 2)\n"
     ]
    }
   ],
   "source": [
    "tensor_3dim = tf.constant([[[1,2],[3,4]],[[5,6],[7,8]]])\n",
    "print(tensor_3dim)\n",
    "print(tensor_3dim.ndim,tensor_3dim.shape)"
   ]
  },
  {
   "cell_type": "markdown",
   "id": "3d64660f-0e7b-4e86-849f-f79ba7106d00",
   "metadata": {},
   "source": [
    "### Using tf.variable()"
   ]
  },
  {
   "cell_type": "code",
   "execution_count": 10,
   "id": "91a4a4a0-ccf1-4924-a0b5-156886081e94",
   "metadata": {},
   "outputs": [
    {
     "data": {
      "text/plain": [
       "<tf.Tensor: shape=(), dtype=int32, numpy=22>"
      ]
     },
     "execution_count": 10,
     "metadata": {},
     "output_type": "execute_result"
    }
   ],
   "source": [
    "tensor_x = tf.Variable([1,11])\n",
    "tensor_x[1]\n",
    "tensor_x[1].assign(22)\n",
    "tensor_x[1]\n"
   ]
  },
  {
   "cell_type": "markdown",
   "id": "4be5ae3c-3423-4457-9f6e-6823a930e54b",
   "metadata": {},
   "source": [
    "#### Random Tensor"
   ]
  },
  {
   "cell_type": "code",
   "execution_count": 25,
   "id": "29a44021-7a4a-4408-bdb4-fdf7b8ef09e3",
   "metadata": {},
   "outputs": [
    {
     "name": "stdout",
     "output_type": "stream",
     "text": [
      "<class 'tensorflow.python.ops.stateful_random_ops.Generator'>\n",
      "tf.Tensor(\n",
      "[[-1.0130816   0.28291714]\n",
      " [ 1.2132233   0.46988967]\n",
      " [ 0.37944323 -0.6664026 ]\n",
      " [ 0.6054596   0.19181173]], shape=(4, 2), dtype=float32)\n",
      "tf.Tensor(\n",
      "[[-1.0130816   0.28291714  1.2132233 ]\n",
      " [ 0.46988967  0.37944323 -0.6664026 ]], shape=(2, 3), dtype=float32)\n"
     ]
    }
   ],
   "source": [
    "random_gen = tf.random.Generator.from_seed(12)\n",
    "print(type(random_gen))\n",
    "tn_random1 = random_gen.normal(shape=(4,2))\n",
    "print(tn_random1)\n",
    "tn_random2 = tf.random.Generator.from_seed(12).normal(shape=(2,3))\n",
    "print(tn_random2)"
   ]
  },
  {
   "cell_type": "markdown",
   "id": "9ad59cc7-a1b0-4b6f-8622-53e995b01243",
   "metadata": {},
   "source": [
    "### Shuffle Tenosr"
   ]
  },
  {
   "cell_type": "code",
   "execution_count": 11,
   "id": "b5bc681d-73a2-4b30-a493-9210b67d0928",
   "metadata": {},
   "outputs": [
    {
     "name": "stdout",
     "output_type": "stream",
     "text": [
      "tf.Tensor(\n",
      "[[10 20]\n",
      " [11 22]\n",
      " [77 88]], shape=(3, 2), dtype=int32)\n",
      "tf.Tensor(\n",
      "[[11 22]\n",
      " [10 20]\n",
      " [77 88]], shape=(3, 2), dtype=int32)\n"
     ]
    }
   ],
   "source": [
    "tf.random.set_seed(12)\n",
    "tn_unshuff = tf.constant([[10,20],[11,22],[77,88]])\n",
    "tn_shuff = tf.random.shuffle(tn_unshuff)\n",
    "print(tn_unshuff)\n",
    "print(tn_shuff)\n"
   ]
  },
  {
   "cell_type": "code",
   "execution_count": 12,
   "id": "aaaac1d6-fbb0-4a87-af17-5b2c0aa54d22",
   "metadata": {},
   "outputs": [
    {
     "name": "stdout",
     "output_type": "stream",
     "text": [
      "tf.Tensor([[1. 1.]], shape=(1, 2), dtype=float32)\n",
      "tf.Tensor([[1. 1.]], shape=(1, 2), dtype=float32)\n"
     ]
    }
   ],
   "source": [
    "t1 = tf.ones(shape=(1,2))\n",
    "t2 = tf.ones([1,2])\n",
    "print(t1)\n",
    "print(t2)"
   ]
  },
  {
   "cell_type": "code",
   "execution_count": 13,
   "id": "de6ffa66-a9a2-4626-9086-0e5cdb51be2f",
   "metadata": {},
   "outputs": [
    {
     "name": "stdout",
     "output_type": "stream",
     "text": [
      "tf.Tensor([[0. 0.]], shape=(1, 2), dtype=float32)\n",
      "tf.Tensor([[0. 0.]], shape=(1, 2), dtype=float32)\n"
     ]
    }
   ],
   "source": [
    "t1 = tf.zeros(shape=(1,2))\n",
    "t2 = tf.zeros([1,2])\n",
    "print(t1)\n",
    "print(t2)"
   ]
  },
  {
   "cell_type": "markdown",
   "id": "330cf8e4-baa3-4fd4-bf99-0347a246eb43",
   "metadata": {},
   "source": [
    "### Numpy array to tensor"
   ]
  },
  {
   "cell_type": "code",
   "execution_count": 14,
   "id": "08d574b8-4530-4ebb-b6c9-80986682f0e0",
   "metadata": {},
   "outputs": [
    {
     "name": "stdout",
     "output_type": "stream",
     "text": [
      "[[1 2 3]\n",
      " [4 5 6]]\n",
      "[[1, 2, 3], [4, 5, 6]]\n",
      "tf.Tensor(\n",
      "[[1 2 3]\n",
      " [4 5 6]], shape=(2, 3), dtype=int32)\n",
      "tf.Tensor(\n",
      "[[1 2]\n",
      " [3 4]\n",
      " [5 6]], shape=(3, 2), dtype=int32)\n"
     ]
    }
   ],
   "source": [
    "import numpy as np\n",
    "n_array = np.array([[1,2,3],[4,5,6]])\n",
    "li = [[1,2,3],[4,5,6]] \n",
    "print(n_array)\n",
    "print(li)\n",
    "\n",
    "tn_numpy1 = tf.constant(n_array)\n",
    "print(tn_numpy1)\n",
    "tn_numpy2 = tf.constant(n_array,shape=(3,2))\n",
    "print(tn_numpy2)"
   ]
  },
  {
   "cell_type": "markdown",
   "id": "d5188b02-a556-4e8d-936a-b4d8a31a9335",
   "metadata": {},
   "source": [
    "### Tensor attributes"
   ]
  },
  {
   "cell_type": "code",
   "execution_count": 15,
   "id": "7db40026-300e-43b4-a532-495f50e16339",
   "metadata": {},
   "outputs": [
    {
     "name": "stdout",
     "output_type": "stream",
     "text": [
      "Shape of tensor      : (2, 3, 4, 5)\n",
      "Number of dimension  : 4\n",
      "Datatype of element  : <dtype: 'float32'>\n",
      "Size of tensor       : tf.Tensor(120, shape=(), dtype=int32)\n",
      "Elements at 0 axis   : 2\n",
      "Elements at last axis: 5\n"
     ]
    },
    {
     "data": {
      "text/plain": [
       "<tf.Tensor: shape=(2, 3, 4, 5), dtype=float32, numpy=\n",
       "array([[[[0., 0., 0., 0., 0.],\n",
       "         [0., 0., 0., 0., 0.],\n",
       "         [0., 0., 0., 0., 0.],\n",
       "         [0., 0., 0., 0., 0.]],\n",
       "\n",
       "        [[0., 0., 0., 0., 0.],\n",
       "         [0., 0., 0., 0., 0.],\n",
       "         [0., 0., 0., 0., 0.],\n",
       "         [0., 0., 0., 0., 0.]],\n",
       "\n",
       "        [[0., 0., 0., 0., 0.],\n",
       "         [0., 0., 0., 0., 0.],\n",
       "         [0., 0., 0., 0., 0.],\n",
       "         [0., 0., 0., 0., 0.]]],\n",
       "\n",
       "\n",
       "       [[[0., 0., 0., 0., 0.],\n",
       "         [0., 0., 0., 0., 0.],\n",
       "         [0., 0., 0., 0., 0.],\n",
       "         [0., 0., 0., 0., 0.]],\n",
       "\n",
       "        [[0., 0., 0., 0., 0.],\n",
       "         [0., 0., 0., 0., 0.],\n",
       "         [0., 0., 0., 0., 0.],\n",
       "         [0., 0., 0., 0., 0.]],\n",
       "\n",
       "        [[0., 0., 0., 0., 0.],\n",
       "         [0., 0., 0., 0., 0.],\n",
       "         [0., 0., 0., 0., 0.],\n",
       "         [0., 0., 0., 0., 0.]]]], dtype=float32)>"
      ]
     },
     "execution_count": 15,
     "metadata": {},
     "output_type": "execute_result"
    }
   ],
   "source": [
    "tn_4_dim = tf.zeros(shape=(2,3,4,5))\n",
    "print('Shape of tensor      :',tn_4_dim.shape)\n",
    "print('Number of dimension  :',tn_4_dim.ndim)\n",
    "print('Datatype of element  :',tn_4_dim.dtype)\n",
    "print('Size of tensor       :',tf.size(tn_4_dim))\n",
    "print('Elements at 0 axis   :',tn_4_dim.shape[0])\n",
    "print('Elements at last axis:',tn_4_dim.shape[-1])\n",
    "tn_4_dim"
   ]
  },
  {
   "cell_type": "markdown",
   "id": "209ce5dc-6ada-4de6-b3c8-a3c60395fac3",
   "metadata": {},
   "source": [
    "### Tensor access by index"
   ]
  },
  {
   "cell_type": "code",
   "execution_count": 16,
   "id": "90908b2d-c3af-4d1f-872e-da3d7b9aa1c5",
   "metadata": {},
   "outputs": [
    {
     "data": {
      "text/plain": [
       "<tf.Tensor: shape=(2, 3, 4, 4), dtype=int32, numpy=\n",
       "array([[[[1101, 1102, 1103, 1104],\n",
       "         [1111, 1112, 1113, 1114],\n",
       "         [1121, 1122, 1123, 1124],\n",
       "         [1131, 1132, 1133, 1134]],\n",
       "\n",
       "        [[1201, 1202, 1203, 1204],\n",
       "         [1211, 1212, 1213, 1214],\n",
       "         [1221, 1222, 1223, 1224],\n",
       "         [1231, 1232, 1233, 1234]],\n",
       "\n",
       "        [[1301, 1302, 1303, 1304],\n",
       "         [1311, 1312, 1313, 1314],\n",
       "         [1321, 1322, 1323, 1324],\n",
       "         [1331, 1332, 1333, 1334]]],\n",
       "\n",
       "\n",
       "       [[[2101, 2102, 2103, 2104],\n",
       "         [2111, 2112, 2113, 2114],\n",
       "         [2121, 2122, 2123, 2124],\n",
       "         [2131, 2132, 2133, 2134]],\n",
       "\n",
       "        [[2201, 2202, 2203, 2204],\n",
       "         [2211, 2212, 2213, 2214],\n",
       "         [2221, 2222, 2223, 2224],\n",
       "         [2231, 2232, 2233, 2234]],\n",
       "\n",
       "        [[2301, 2302, 2303, 2304],\n",
       "         [2311, 2312, 2313, 2314],\n",
       "         [2321, 2322, 2323, 2324],\n",
       "         [2331, 2332, 2333, 2334]]]])>"
      ]
     },
     "execution_count": 16,
     "metadata": {},
     "output_type": "execute_result"
    }
   ],
   "source": [
    "tn_4_dim = tf.constant([[[[1101,1102,1103,1104],[1111,1112,1113,1114],[1121,1122,1123,1124],[1131,1132,1133,1134]],\n",
    "                         [[1201,1202,1203,1204],[1211,1212,1213,1214],[1221,1222,1223,1224],[1231,1232,1233,1234]],\n",
    "                         [[1301,1302,1303,1304],[1311,1312,1313,1314],[1321,1322,1323,1324],[1331,1332,1333,1334]]\n",
    "                       ],\n",
    "                        [[[2101,2102,2103,2104],[2111,2112,2113,2114],[2121,2122,2123,2124],[2131,2132,2133,2134]],\n",
    "                         [[2201,2202,2203,2204],[2211,2212,2213,2214],[2221,2222,2223,2224],[2231,2232,2233,2234]],\n",
    "                         [[2301,2302,2303,2304],[2311,2312,2313,2314],[2321,2322,2323,2324],[2331,2332,2333,2334]]\n",
    "                       ]\n",
    "                       ])\n",
    "tn_4_dim"
   ]
  },
  {
   "cell_type": "code",
   "execution_count": 21,
   "id": "2d9f7d39-8ea3-477f-9b70-1051d7c33083",
   "metadata": {},
   "outputs": [
    {
     "name": "stdout",
     "output_type": "stream",
     "text": [
      "tf.Tensor(1101, shape=(), dtype=int32)\n",
      "tf.Tensor(2334, shape=(), dtype=int32)\n",
      "---------------------------------------\n",
      "tf.Tensor([1101 1102 1103 1104], shape=(4,), dtype=int32)\n",
      "---------------------------------------\n",
      "tf.Tensor(\n",
      "[[1101 1102 1103 1104]\n",
      " [1111 1112 1113 1114]\n",
      " [1121 1122 1123 1124]\n",
      " [1131 1132 1133 1134]], shape=(4, 4), dtype=int32)\n",
      "---------------------------------------\n",
      "tf.Tensor(\n",
      "[[[1101 1102 1103 1104]\n",
      "  [1111 1112 1113 1114]\n",
      "  [1121 1122 1123 1124]\n",
      "  [1131 1132 1133 1134]]\n",
      "\n",
      " [[1201 1202 1203 1204]\n",
      "  [1211 1212 1213 1214]\n",
      "  [1221 1222 1223 1224]\n",
      "  [1231 1232 1233 1234]]\n",
      "\n",
      " [[1301 1302 1303 1304]\n",
      "  [1311 1312 1313 1314]\n",
      "  [1321 1322 1323 1324]\n",
      "  [1331 1332 1333 1334]]], shape=(3, 4, 4), dtype=int32)\n",
      "=======================================\n",
      "tf.Tensor(\n",
      "[[[1212 1213]\n",
      "  [1222 1223]]\n",
      "\n",
      " [[1312 1313]\n",
      "  [1322 1323]]], shape=(2, 2, 2), dtype=int32)\n"
     ]
    }
   ],
   "source": [
    "print(tn_4_dim[0,0,0,0]) # First element \n",
    "print(tn_4_dim[-1,-1,-1,-1]) # Last element\n",
    "print('---------------------------------------')\n",
    "print(tn_4_dim[0,0,0,:])\n",
    "print('---------------------------------------')\n",
    "print(tn_4_dim[0,0,:,:])\n",
    "print('---------------------------------------')\n",
    "print(tn_4_dim[0,:,:,:])\n",
    "print('=======================================')\n",
    "print(tn_4_dim[0,1:3,1:3,1:3])"
   ]
  },
  {
   "cell_type": "markdown",
   "id": "230d08b7-d2e5-422e-a80b-40c5b300d16a",
   "metadata": {},
   "source": [
    "### Tensor adding dimension"
   ]
  },
  {
   "cell_type": "code",
   "execution_count": 22,
   "id": "08d1b49a-53e8-400f-8865-82f42a4c5976",
   "metadata": {},
   "outputs": [
    {
     "name": "stdout",
     "output_type": "stream",
     "text": [
      "tf.Tensor(\n",
      "[[10 20 30]\n",
      " [11 22 33]], shape=(2, 3), dtype=int32)\n",
      "tf.Tensor(\n",
      "[[[10 20 30]\n",
      "  [11 22 33]]], shape=(1, 2, 3), dtype=int32)\n",
      "tf.Tensor(\n",
      "[[[10]\n",
      "  [20]\n",
      "  [30]]\n",
      "\n",
      " [[11]\n",
      "  [22]\n",
      "  [33]]], shape=(2, 3, 1), dtype=int32)\n"
     ]
    }
   ],
   "source": [
    "tn_2_dim = tf.constant([[10,20,30],[11,22,33]])\n",
    "print(tn_2_dim)\n",
    "tn_3_dim_first = tn_2_dim[tf.newaxis,...]\n",
    "tn_3_dim_last= tn_2_dim[...,tf.newaxis]\n",
    "print(tn_3_dim_first)\n",
    "print(tn_3_dim_last)\n"
   ]
  },
  {
   "cell_type": "code",
   "execution_count": 23,
   "id": "dfee6b41-8cee-4909-9510-15e1d66969d0",
   "metadata": {},
   "outputs": [
    {
     "name": "stdout",
     "output_type": "stream",
     "text": [
      "======= Other way ================\n",
      "tf.Tensor(\n",
      "[[[10 20 30]\n",
      "  [11 22 33]]], shape=(1, 2, 3), dtype=int32)\n",
      "tf.Tensor(\n",
      "[[[10]\n",
      "  [20]\n",
      "  [30]]\n",
      "\n",
      " [[11]\n",
      "  [22]\n",
      "  [33]]], shape=(2, 3, 1), dtype=int32)\n",
      "tf.Tensor(\n",
      "[[[10 20 30]]\n",
      "\n",
      " [[11 22 33]]], shape=(2, 1, 3), dtype=int32)\n"
     ]
    }
   ],
   "source": [
    "print('======= Other way ================')\n",
    "tn_3_dim_first = tf.expand_dims(tn_2_dim,axis=0)\n",
    "print(tn_3_dim_first)\n",
    "tn_3_dim_last = tf.expand_dims(tn_2_dim,axis=-1)\n",
    "print(tn_3_dim_last)\n",
    "tn_3_dim_middle = tf.expand_dims(tn_2_dim,axis=1)\n",
    "print(tn_3_dim_middle)"
   ]
  },
  {
   "cell_type": "markdown",
   "id": "028d454d-9d0d-4748-aac6-312013e6df84",
   "metadata": {},
   "source": [
    "### Broadcasting Tensor with basic math operations"
   ]
  },
  {
   "cell_type": "code",
   "execution_count": 24,
   "id": "0b506564-01a9-498f-92dd-d269aebf2469",
   "metadata": {},
   "outputs": [
    {
     "name": "stdout",
     "output_type": "stream",
     "text": [
      "tf.Tensor(\n",
      "[[20 40 60]\n",
      " [22 44 66]], shape=(2, 3), dtype=int32)\n",
      "tf.Tensor(\n",
      "[[10 20 30]\n",
      " [11 22 33]], shape=(2, 3), dtype=int32)\n",
      "tf.Tensor(\n",
      "[[20 40 60]\n",
      " [22 44 66]], shape=(2, 3), dtype=int32)\n",
      "tf.Tensor(\n",
      "[[15 35 55]\n",
      " [17 39 61]], shape=(2, 3), dtype=int32)\n"
     ]
    }
   ],
   "source": [
    "tn_2_dim = tf.constant([[10,20,30],[11,22,33]])\n",
    "print(tf.multiply(tn_2_dim,2))\n",
    "print(tn_2_dim)      \n",
    "tn_2_dim = tf.multiply(tn_2_dim,2)\n",
    "print(tn_2_dim)\n",
    "tn_2_new = tf.subtract(tn_2_dim,5)\n",
    "print(tn_2_new)"
   ]
  },
  {
   "cell_type": "markdown",
   "id": "90e4b710-4982-4dc2-aa19-ff51ae44dd92",
   "metadata": {},
   "source": [
    "### Tensor Matrix muliplication\n",
    "- Resource -> https://www.mathsisfun.com/algebra/matrix-multiplying.html"
   ]
  },
  {
   "cell_type": "code",
   "execution_count": 26,
   "id": "f75dcadb-8355-43a0-b4c4-39301646a527",
   "metadata": {},
   "outputs": [
    {
     "name": "stdout",
     "output_type": "stream",
     "text": [
      "tf.Tensor(\n",
      "[[2 3]\n",
      " [4 5]], shape=(2, 2), dtype=int32)\n",
      "tf.Tensor(\n",
      "[[10 20]\n",
      " [30 40]], shape=(2, 2), dtype=int32)\n",
      "----Nomral multiplication-----\n",
      "tf.Tensor(\n",
      "[[ 20  60]\n",
      " [120 200]], shape=(2, 2), dtype=int32)\n",
      "---Dot multiplication-----\n",
      "tf.Tensor(\n",
      "[[110 160]\n",
      " [190 280]], shape=(2, 2), dtype=int32)\n",
      "---Dot multiplication shape matching-----\n",
      "tf.Tensor(\n",
      "[[2 2 2]\n",
      " [3 3 3]], shape=(2, 3), dtype=int32)\n",
      "tf.Tensor(\n",
      "[[10 20]\n",
      " [10 20]\n",
      " [10 20]], shape=(3, 2), dtype=int32)\n",
      "2 x 3 ------> 3 x 2\n",
      "tf.Tensor(\n",
      "[[ 60 120]\n",
      " [ 90 180]], shape=(2, 2), dtype=int32)\n"
     ]
    }
   ],
   "source": [
    "tn_x = tf.constant([[2,3],[4,5]])\n",
    "print(tn_x)\n",
    "tn_y = tf.constant([[10,20],[30,40]])\n",
    "print(tn_y)\n",
    "print('----Nomral multiplication-----')\n",
    "print(tn_x * tn_y)\n",
    "print('---Dot multiplication-----')\n",
    "print(tn_x @ tn_y)\n",
    "\n",
    "# For dot multiplication innner shapr should be mach\n",
    "print('---Dot multiplication shape matching-----')\n",
    "tn_x = tf.constant([[2,2,2],[3,3,3]])\n",
    "print(tn_x)\n",
    "tn_y = tf.constant([[10,20],[10,20],[10,20]])\n",
    "print(tn_y)\n",
    "print('2 x 3 ------> 3 x 2')\n",
    "print(tn_x @ tn_y)\n",
    "\n"
   ]
  },
  {
   "cell_type": "markdown",
   "id": "1fb65cad-db6b-40ea-ba29-928b6ace8bd2",
   "metadata": {},
   "source": [
    "### Chnage Tensor Datatype"
   ]
  },
  {
   "cell_type": "code",
   "execution_count": 27,
   "id": "4e5212ed-40ea-4101-b6df-13976f2c22e9",
   "metadata": {},
   "outputs": [
    {
     "name": "stdout",
     "output_type": "stream",
     "text": [
      "<dtype: 'int32'>\n",
      "<dtype: 'int16'>\n"
     ]
    }
   ],
   "source": [
    "tn_x = tf.constant([[2,2],[3,3]])\n",
    "print(tn_x.dtype)\n",
    "tn_cast = tf.cast(tn_x,dtype=tf.int16)\n",
    "print(tn_cast.dtype)"
   ]
  },
  {
   "cell_type": "markdown",
   "id": "7bc7df75-a853-4c6d-8d78-fd378bcb4a84",
   "metadata": {},
   "source": [
    "### Tensor Aggergationdtype"
   ]
  },
  {
   "cell_type": "code",
   "execution_count": null,
   "id": "872c7a1f-c297-43ea-bbc6-27a8a0660ca6",
   "metadata": {},
   "outputs": [],
   "source": []
  },
  {
   "cell_type": "code",
   "execution_count": 28,
   "id": "5b6145d6-d2c4-4fc7-88bc-868088ed19aa",
   "metadata": {},
   "outputs": [
    {
     "name": "stdout",
     "output_type": "stream",
     "text": [
      "tf.Tensor(\n",
      "[[ 2  5  4]\n",
      " [ 7  9 12]], shape=(2, 3), dtype=int32)\n",
      "Minimum of tensor -  tf.Tensor(2, shape=(), dtype=int32)\n",
      "Maximum of tensor -  tf.Tensor(12, shape=(), dtype=int32)\n",
      "Average of tensor -  tf.Tensor(6, shape=(), dtype=int32)\n",
      "Sum of tensor -  tf.Tensor(39, shape=(), dtype=int32)\n",
      "Variance math of tensor -  tf.Tensor(49.805557, shape=(), dtype=float32)\n",
      "Variance of tensor -  tf.Tensor([ 6  4 16], shape=(3,), dtype=int32)\n",
      "Std. Dev of tensor -  tf.Tensor([2.5 2.  4. ], shape=(3,), dtype=float32)\n"
     ]
    }
   ],
   "source": [
    "tn_ex = tf.constant([[2,-5,4],[7,-9,12]])\n",
    "tn_abs = tf.abs(tn_ex)\n",
    "tn_float = tf.cast(tn_ex,dtype=tf.float32)\n",
    "print(tn_abs)\n",
    "print('Minimum of tensor - ',tf.reduce_min(tn_abs))\n",
    "print('Maximum of tensor - ',tf.reduce_max(tn_abs))\n",
    "print('Average of tensor - ',tf.reduce_mean(tn_abs))\n",
    "print('Sum of tensor - ',tf.reduce_sum(tn_abs))\n",
    "print('Variance math of tensor - ',tf.math.reduce_variance(tn_float))\n",
    "\n",
    "print('Variance of tensor - ',tfp.stats.variance(tn_abs))\n",
    "print('Std. Dev of tensor - ',tfp.stats.stddev(tn_float))"
   ]
  },
  {
   "cell_type": "markdown",
   "id": "a71121d6-90d4-4863-88d3-66db7d43c754",
   "metadata": {},
   "source": [
    "### Postional Max & Min"
   ]
  },
  {
   "cell_type": "code",
   "execution_count": 30,
   "id": "5798c88b-2897-487c-a9b3-137abd909a1d",
   "metadata": {},
   "outputs": [
    {
     "name": "stdout",
     "output_type": "stream",
     "text": [
      "tf.Tensor([7 8 9 6 7], shape=(5,), dtype=int64)\n"
     ]
    },
    {
     "data": {
      "text/plain": [
       "<tf.Tensor: shape=(10, 5), dtype=float32, numpy=\n",
       "array([[0.644151  , 0.8082472 , 0.8976548 , 0.6368902 , 0.6270969 ],\n",
       "       [0.9936013 , 0.02359486, 0.03668392, 0.5860578 , 0.5740315 ],\n",
       "       [0.09047401, 0.5755553 , 0.25272822, 0.11045039, 0.61225283],\n",
       "       [0.1290685 , 0.89660144, 0.06479812, 0.8622047 , 0.82242084],\n",
       "       [0.4016037 , 0.7659943 , 0.4539342 , 0.32376182, 0.4617684 ],\n",
       "       [0.32858098, 0.8104389 , 0.1609515 , 0.07981062, 0.5934839 ],\n",
       "       [0.6243702 , 0.9112947 , 0.88744843, 0.9568223 , 0.436625  ],\n",
       "       [0.9997524 , 0.24064243, 0.8281152 , 0.54077435, 0.8436167 ],\n",
       "       [0.33806038, 0.9431902 , 0.08632314, 0.68907607, 0.53072953],\n",
       "       [0.9125186 , 0.06304038, 0.95265174, 0.8152896 , 0.57640743]],\n",
       "      dtype=float32)>"
      ]
     },
     "execution_count": 30,
     "metadata": {},
     "output_type": "execute_result"
    }
   ],
   "source": [
    "tf.random.set_seed(10)\n",
    "tn_50 = tf.random.uniform(shape=[10,5])\n",
    "print(tf.argmax(tn_50))\n",
    "tn_50"
   ]
  },
  {
   "cell_type": "markdown",
   "id": "de5304ae-d185-458a-915f-9a143315e58a",
   "metadata": {},
   "source": [
    "### Squeezing of Tensor"
   ]
  },
  {
   "cell_type": "code",
   "execution_count": 39,
   "id": "1b15965b-fef6-4bfc-9f38-a6ac75646e9c",
   "metadata": {},
   "outputs": [
    {
     "name": "stdout",
     "output_type": "stream",
     "text": [
      "(1, 1, 1, 5)\n",
      "(5,)\n"
     ]
    }
   ],
   "source": [
    "tf.random.set_seed(10)\n",
    "tn_5 = tf.random.uniform(shape=[1,1,1,5])\n",
    "print(tn_5.shape)\n",
    "print(tf.squeeze(tn_5).shape)"
   ]
  },
  {
   "cell_type": "markdown",
   "id": "4d506398-3aff-44d9-850c-b8ce5740b3f5",
   "metadata": {},
   "source": [
    "### One Hot Encoding"
   ]
  },
  {
   "cell_type": "code",
   "execution_count": 63,
   "id": "3342ef01-4251-49f6-acaa-448ef6b4a40a",
   "metadata": {},
   "outputs": [
    {
     "name": "stdout",
     "output_type": "stream",
     "text": [
      "tf.Tensor(\n",
      "[[1. 0. 0. 0.]\n",
      " [0. 1. 0. 0.]\n",
      " [0. 0. 1. 0.]\n",
      " [0. 0. 0. 1.]], shape=(4, 4), dtype=float32)\n",
      "tf.Tensor(\n",
      "[[b'ON-XXXX' b'OFF-OOOO' b'OFF-OOOO' b'OFF-OOOO']\n",
      " [b'OFF-OOOO' b'ON-XXXX' b'OFF-OOOO' b'OFF-OOOO']\n",
      " [b'OFF-OOOO' b'OFF-OOOO' b'ON-XXXX' b'OFF-OOOO']\n",
      " [b'OFF-OOOO' b'OFF-OOOO' b'OFF-OOOO' b'ON-XXXX']], shape=(4, 4), dtype=string)\n"
     ]
    }
   ],
   "source": [
    "color_list = [0,1,2,3]\n",
    "print(tf.one_hot(color_list,depth=4))\n",
    "print(tf.one_hot(color_list,depth=4,on_value='ON-XXXX',off_value='OFF-OOOO'))"
   ]
  },
  {
   "cell_type": "markdown",
   "id": "ad094e3b-c3e8-4d34-9823-50d7f65382c5",
   "metadata": {},
   "source": [
    "### Tenosr Math Operations"
   ]
  },
  {
   "cell_type": "code",
   "execution_count": 42,
   "id": "0d11327a-0175-45ed-b2a7-6d174ee2611b",
   "metadata": {},
   "outputs": [
    {
     "name": "stdout",
     "output_type": "stream",
     "text": [
      "tf.Tensor(\n",
      "[[2 3]\n",
      " [4 5]\n",
      " [6 7]], shape=(3, 2), dtype=int32)\n",
      "tf.Tensor(\n",
      "[[ 4  9]\n",
      " [16 25]\n",
      " [36 49]], shape=(3, 2), dtype=int32)\n",
      "tf.Tensor(\n",
      "[[2. 3.]\n",
      " [4. 5.]\n",
      " [6. 7.]], shape=(3, 2), dtype=float32)\n"
     ]
    }
   ],
   "source": [
    "tn_x = tf.range(2,8)\n",
    "tn_y = tf.reshape(tn_x,shape=[3,2])\n",
    "print(tn_y)\n",
    "tn_sq = tf.square(tn_y)\n",
    "print(tn_sq)\n",
    "tn_sqrt = tf.sqrt(tf.cast(tn_sq,dtype=tf.float32))\n",
    "print(tn_sqrt)"
   ]
  },
  {
   "cell_type": "markdown",
   "id": "dfcdb1cf-5a66-4f62-91d7-5dd14c3bd5d4",
   "metadata": {},
   "source": [
    "### Tensor & NumPy"
   ]
  },
  {
   "cell_type": "code",
   "execution_count": 92,
   "id": "bb4857f2-8814-4306-ae70-18bcabd0786c",
   "metadata": {},
   "outputs": [
    {
     "name": "stdout",
     "output_type": "stream",
     "text": [
      "<dtype: 'int32'>\n",
      "Tensor to mumPy conversion\n",
      " [[ 1  2]\n",
      " [ 3  4]\n",
      " [ 5  6]\n",
      " [ 7  8]\n",
      " [ 9 10]]\n",
      "<dtype: 'int32'>\n",
      "numPy to Tensor conversion\n",
      " tf.Tensor(\n",
      "[[11 12]\n",
      " [13 14]\n",
      " [15 16]\n",
      " [17 18]\n",
      " [19 20]], shape=(5, 2), dtype=int32)\n"
     ]
    }
   ],
   "source": [
    "import numpy as np\n",
    "tn_arr = tf.reshape(tf.range(1,11),shape=[5,2])\n",
    "np_arr = np.array(tn_arr)\n",
    "print(tn_arr.dtype)\n",
    "print('Tensor to mumPy conversion\\n',np_arr)\n",
    "\n",
    "np_arr2 = np.arange(11,21).reshape(5,2)\n",
    "tn_arr2 = tf.constant(np_arr2)\n",
    "print(tn_arr2.dtype)\n",
    "print('numPy to Tensor conversion\\n',tn_arr2)"
   ]
  },
  {
   "cell_type": "markdown",
   "id": "be9780f5-deb0-4b74-9e03-615a940674c9",
   "metadata": {},
   "source": [
    "### Finding access to GPU"
   ]
  },
  {
   "cell_type": "code",
   "execution_count": 44,
   "id": "57de3211-188d-4e7d-b957-70dcc6f912c1",
   "metadata": {},
   "outputs": [
    {
     "data": {
      "text/plain": [
       "[PhysicalDevice(name='/physical_device:CPU:0', device_type='CPU')]"
      ]
     },
     "execution_count": 44,
     "metadata": {},
     "output_type": "execute_result"
    }
   ],
   "source": [
    "tf.config.list_physical_devices()"
   ]
  }
 ],
 "metadata": {
  "kernelspec": {
   "display_name": "Python 3 (ipykernel)",
   "language": "python",
   "name": "python3"
  },
  "language_info": {
   "codemirror_mode": {
    "name": "ipython",
    "version": 3
   },
   "file_extension": ".py",
   "mimetype": "text/x-python",
   "name": "python",
   "nbconvert_exporter": "python",
   "pygments_lexer": "ipython3",
   "version": "3.12.4"
  }
 },
 "nbformat": 4,
 "nbformat_minor": 5
}
